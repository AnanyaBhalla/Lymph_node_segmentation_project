  {
   "cell_type": "markdown",
   "id": "27c39b3d-d9a8-4ac8-80d6-5369a412952b",
   "metadata": {},
   "source": [
    "# folder ndpi images"
   ]
  },
  {
   "cell_type": "code",
   "execution_count": 3,
   "id": "ecc42b70-3bc3-497f-a62b-6c7dfa5e70c4",
   "metadata": {},
   "outputs": [],
   "source": [
    "# Load necessary modules\n",
    "import json\n",
    "import openslide\n",
    "import matplotlib.pyplot as plt\n",
    "import cv2\n",
    "import numpy as np\n",
    "import os\n",
    "import glob"
   ]
  },
  {
   "cell_type": "code",
   "execution_count": 1,
   "id": "66f8bd91-5b42-4dbc-be07-da1a35d096f1",
   "metadata": {
    "scrolled": true
   },
   "outputs": [],
   "source": [
    "# Define function to generate binary mask from json file and store mask in output folder\n",
    "def get_binary_mask_json(image_path, json_path, output_folder):\n",
    "    # Open the image with openslide library\n",
    "    image_data = openslide.OpenSlide(image_path)\n",
    "    \n",
    "    # Read a specific region from the image (e.g., entire slide) at level 6 dimension\n",
    "    image_data = image_data.get_thumbnail(size=image_data.level_dimensions[6])\n",
    "\n",
    "    # Checkpoint\n",
    "    print(f\"Processing image: {image_path}\")\n",
    "\n",
    "    # Convert the image data to numpy arrays\n",
    "    image_data = np.array(image_data.convert('RGB'))\n",
    "\n",
    "    # Create an empty binary mask (black image) with the same dimensions as the original image \n",
    "    black_background = np.zeros(image_data.shape[:2], dtype=np.uint8)\n",
    "\n",
    "    # Load JSON file\n",
    "    with open(json_path, 'r') as json_file:\n",
    "        json_data = json.load(json_file)\n",
    "\n",
    "    # Checkpoint\n",
    "    print(\"Converting JSON to np array\")\n",
    "\n",
    "    # Open a list to store the coordinates extracted from the JSON file\n",
    "    json_annotations = []\n",
    "\n",
    "    # Loop through the JSON file to get the coordinates for each annotation\n",
    "    for i in json_data:\n",
    "        annotation = i[\"geometry\"][\"coordinates\"]\n",
    "\n",
    "        # Append the coordinates into the list\n",
    "        json_annotations.append(annotation)  # List will be a list of a list\n",
    "\n",
    "    # Open a list to store the contours\n",
    "    contours = []\n",
    "\n",
    "    # Loop through each lymph node annotations\n",
    "    for i, _ in enumerate(json_annotations):\n",
    "        # Convert the coordinates into an np array\n",
    "        contour = np.array(json_annotations[i][0], dtype=np.int32)\n",
    "        # Append contour to list with contours\n",
    "        contours.append(contour)\n",
    "        \n",
    "        # Downscale the np points by dividing by 64\n",
    "        downscaled_contour = contour // 64\n",
    "    \n",
    "        # Append the downscaled contour to the list\n",
    "        contours.append(downscaled_contour)\n",
    "       \n",
    "    # Draw white contours on the black background\n",
    "    final = cv2.drawContours(black_background, contours, -1, (255), thickness=cv2.FILLED)\n",
    "    \n",
    "    # Generate a new file name for masked\n",
    "    basename = os.path.basename(image_path)\n",
    "    # Remove the \".ndpi\" extenstion\n",
    "    mod_name = basename[:-5]\n",
    "    # Create new file name\n",
    "    new_file_name = f\"{mod_name}_masked.png\"\n",
    "\n",
    "    \n",
    "    # Copy the file to the destination folder\n",
    "    cv2.imwrite(os.path.join(output_folder, new_file_name), black_background)\n",
    "\n",
    "    #checkpoint\n",
    "    print(\"Next wsis\")"
   ]
  },
  {
   "cell_type": "code",
   "execution_count": 4,
   "id": "061c83a3-4f80-4022-98cb-a0f1dc61a032",
   "metadata": {},
   "outputs": [
    {
     "name": "stdout",
     "output_type": "stream",
     "text": [
      "Done\n"
     ]
    }
   ],
   "source": [
    "# Input folders with ndpi formatted WSIs\n",
    "input_image_folder = \"input_wsis_ndpi/*\"\n",
    "# Input folder with json file of contours for each image\n",
    "input_json_folder = \"input_json_files/*\"\n",
    "# Output folder\n",
    "output_folder = \"output_folder\"\n",
    "\n",
    "# Get all the WSIs NDPI files \n",
    "image_files = sorted(glob.glob(input_image_folder))\n",
    "\n",
    "# Get all json files\n",
    "json_files = sorted(glob.glob(input_json_folder))\n",
    "\n",
    "# Zip image and json file\n",
    "zipped = zip(image_files,json_files)\n",
    "\n",
    "# Loop through each pair of image and json files\n",
    "for image, cor in zipped: \n",
    "    # Call function\n",
    "    get_binary_mask_json(image, cor, output_folder)\n",
    "\n",
    "# Print message when all binary masks are stored in output folder\n",
    "print(\"Done\")"
   ]
  }
 ],
 "metadata": {
  "kernelspec": {
   "display_name": "LN-env",
   "language": "python",
   "name": "ln-env"
  },
  "language_info": {
   "codemirror_mode": {
    "name": "ipython",
    "version": 3
   },
   "file_extension": ".py",
   "mimetype": "text/x-python",
   "name": "python",
   "nbconvert_exporter": "python",
   "pygments_lexer": "ipython3",
   "version": "3.8.1"
  }
 },
 "nbformat": 4,
 "nbformat_minor": 5
}
