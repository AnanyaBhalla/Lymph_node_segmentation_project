{
 "cells": [
  {
   "cell_type": "code",
   "execution_count": null,
   "id": "6bae2178-2b05-47cb-92b3-d8a4e110d635",
   "metadata": {},
   "outputs": [],
   "source": [
    "# Import necessary modules\n",
    "import os\n",
    "import openslide\n",
    "from PIL import Image\n",
    "import glob\n",
    "import cv2\n",
    "import numpy as np"
   ]
  },
  {
   "cell_type": "code",
   "execution_count": 12,
   "id": "5e18dcc2-18a1-4b9f-b7a3-4b6213189840",
   "metadata": {},
   "outputs": [],
   "source": [
    "# Define a function to convert and save an NDPI image as PNG\n",
    "def convert_ndpi_to_png(input_path, output_folder):\n",
    "    # Open the NDPI image\n",
    "    slide = openslide.OpenSlide(input_path)\n",
    "\n",
    "    # Read a specific region from the image (entire slide) at level 6 dimension\n",
    "    image = slide.get_thumbnail(size = slide.level_dimensions[6])\n",
    "    \n",
    "    # Convert image to numpy array\n",
    "    image_np = np.array(image.convert('RGB'))\n",
    "\n",
    "    # Get the base filename without the \".ndpi\" extension\n",
    "    base_filename = os.path.basename(input_path).replace('.ndpi', '.png')\n",
    "\n",
    "    # Replace spaces with underscores in the base filename\n",
    "    base_filename = base_filename.replace(\" \", \"_\")\n",
    "\n",
    "    # Define the output PNG file path with the modified filename\n",
    "    output_path = os.path.join(output_folder, f\"{base_filename}\")\n",
    "\n",
    "    # Save the image as PNG using cv2.imwrite\n",
    "    cv2.imwrite(output_path, image_np)"
   ]
  },
  {
   "cell_type": "code",
   "execution_count": 13,
   "id": "2474da2d-20fa-4b3e-b4f1-d72a2f26da06",
   "metadata": {},
   "outputs": [
    {
     "name": "stdout",
     "output_type": "stream",
     "text": [
      "done\n"
     ]
    }
   ],
   "source": [
    "\n",
    "# Folder path with ndpi WSIs\n",
    "folder_path = \"folder_with_ndpi_wsis/*\"\n",
    "\n",
    "# Store all the image paths in a list\n",
    "image_paths = glob.glob(folder_path)\n",
    "\n",
    "# Define the output folder\n",
    "output_folder = \"output_folder\"\n",
    "\n",
    "# Loop through each image in the list\n",
    "for i in image_paths: \n",
    "    # Call the function to convert each NDPI image to PNG format\n",
    "    convert_ndpi_to_png(i, output_folder)\n",
    "\n",
    "# Print message when all images are bebng \n",
    "print(\"done\") \n",
    "    "
   ]
  },
  {
   "cell_type": "code",
   "execution_count": null,
   "id": "92c4c2f3",
   "metadata": {},
   "outputs": [],
   "source": []
  }
 ],
 "metadata": {
  "kernelspec": {
   "display_name": "LN-env",
   "language": "python",
   "name": "ln-env"
  },
  "language_info": {
   "codemirror_mode": {
    "name": "ipython",
    "version": 3
   },
   "file_extension": ".py",
   "mimetype": "text/x-python",
   "name": "python",
   "nbconvert_exporter": "python",
   "pygments_lexer": "ipython3",
   "version": "3.8.1"
  }
 },
 "nbformat": 4,
 "nbformat_minor": 5
}
