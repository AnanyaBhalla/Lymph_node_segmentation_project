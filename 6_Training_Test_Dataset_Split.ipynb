{
 "cells": [
  {
   "cell_type": "code",
   "execution_count": 2,
   "id": "d3e9f2ef-deb1-4e36-acdb-c89a1027b93e",
   "metadata": {},
   "outputs": [],
   "source": [
    "# Import necessary libraries \n",
    "import os\n",
    "import random\n",
    "import glob\n",
    "import shutil"
   ]
  },
  {
   "cell_type": "markdown",
   "id": "2ee8b832-8444-4eed-92a4-9b5e3201f9a8",
   "metadata": {},
   "source": [
    "## Step 1: Randomly select 10% of the masked images as validation images"
   ]
  },
  {
   "cell_type": "code",
   "execution_count": 14,
   "id": "0eeafc2f-3b3c-435f-93da-1a5719f37158",
   "metadata": {},
   "outputs": [
    {
     "name": "stdout",
     "output_type": "stream",
     "text": [
      "Number of images to collect for validation: 0\n",
      "Step 1 Done\n"
     ]
    }
   ],
   "source": [
    "# Folder path to the masked images (ALL)\n",
    "masked_pathways = glob.glob(\"/Volumes/LN_Images_D/Dina/ALL_DATA/MASKED/*\") \n",
    "\n",
    "# Extract base names from the masked pathways\n",
    "base_names = [os.path.basename(name) for name in masked_pathways]\n",
    "\n",
    "# Create a list with the pathways and corresponding base name\n",
    "zipped_masked = list(zip(masked_pathways, base_names))\n",
    "\n",
    "# Calculate the number of validation images (10% of total number of images)\n",
    "num_images_validation = int(0.1 * len(masked_pathways))\n",
    "\n",
    "# Checkpoint\n",
    "print(\"Number of images to collect for validation:\", num_images_validation)\n",
    "\n",
    "# Randomly select the validation images \n",
    "validation_data_masked = random.sample(masked_pathways, num_images_validation)\n",
    "\n",
    "# Checkpoint\n",
    "print(\"Step 1 Done\")"
   ]
  },
  {
   "cell_type": "markdown",
   "id": "f0c34a66-9dc5-4184-913c-789c6710544f",
   "metadata": {},
   "source": [
    "## Step 2: Create two folders, one with training and one with validation masks"
   ]
  },
  {
   "cell_type": "code",
   "execution_count": 15,
   "id": "dad47d36-d18d-4dab-aeb7-b3fac8a00788",
   "metadata": {},
   "outputs": [
    {
     "name": "stdout",
     "output_type": "stream",
     "text": [
      "Step 2 Done\n"
     ]
    }
   ],
   "source": [
    "# Define output folders:\n",
    "\n",
    "# Folder for the validation images masked \n",
    "folder_validation_masked = \"folder_for_validation_mask\"\n",
    "\n",
    "# Folder for the training images masked\n",
    "folder_train_masked = \"folder_for_train_mask\"\n",
    "\n",
    "# Loop through the zipped list with the masked pathways and corresponding base names\n",
    "for path, name in zipped_masked:\n",
    "    \n",
    "    # Check is the masked pathway in present in the validation list\n",
    "    if path in validation_data_masked:\n",
    "        # Modify the base name\n",
    "        new_name = name.replace(\" \", \"_\") # Replace spaces with underscores\n",
    "        new_name = new_name.replace('masked.png', 'VALIDATION_masked.png') # Replace ending. Tailor\n",
    "        # Copy the masked images to the masked validation folder with the modified name\n",
    "        shutil.copy(path, os.path.join(folder_validation_masked, new_name)) \n",
    "    # Copy the remaining masks to the training folder\n",
    "    else:\n",
    "        # Modify the base name\n",
    "        new_name = name.replace(\" \", \"_\") # Replace spaces with underscores\n",
    "        new_name = new_name.replace('masked.png', 'TRAIN_masked.png') # Replace ending. Tailor\n",
    "        # Copy the masked images to the masked training folder with the modified name\n",
    "        shutil.copy(path,os.path.join(folder_train_masked, new_name))\n",
    "\n",
    "# Checkpoint\n",
    "print(\"Step 2 Done\")"
   ]
  },
  {
   "cell_type": "markdown",
   "id": "d98ffaa5-d8d7-4fb7-8553-f0f2e326cae6",
   "metadata": {},
   "source": [
    "## Step 3: Get all the corresponding images for each mask into either training or validation image folders"
   ]
  },
  {
   "cell_type": "code",
   "execution_count": 16,
   "id": "789768e6-3029-4304-ad01-6f5be46667f2",
   "metadata": {},
   "outputs": [
    {
     "name": "stdout",
     "output_type": "stream",
     "text": [
      "0\n",
      "0\n",
      "True\n",
      "Step 3 Done\n"
     ]
    }
   ],
   "source": [
    "# Folder with WSIs in PNG format\n",
    "img_python_folder = \"/Volumes/LN_Images_D/Dina/ALL_DATA/IMAGE/*\"\n",
    "\n",
    "# Store the image paths in a list\n",
    "img_paths = glob.glob(img_python_folder)\n",
    "\n",
    "#Checkpoint\n",
    "print(len(img_paths))\n",
    "\n",
    "# Open empty list to store the basenames for the images\n",
    "basename_img = []\n",
    "\n",
    "# Store and modify the basenames for the images in a list\n",
    "for img in img_paths:\n",
    "    # Store the basename in a variable\n",
    "    basename = os.path.basename(img)\n",
    "    # Tailor this part to your needs. Make sure all basenames are the same \"format\"\n",
    "    # Check if the basename ends with 'copied.png'\n",
    "    if basename.endswith(\".copied.png\"): # Tailor\n",
    "        # Modify the basename to remove ending\n",
    "        mod_basename = basename[:-11] #Here \".copied.png\"\n",
    "    else:\n",
    "        # Then it only ends with png\n",
    "        mod_basename = basename[:-4] #Remove \".png\"\n",
    "    \n",
    "    # Append the modified basename to the list of base names\n",
    "    basename_img.append(mod_basename)\n",
    "\n",
    "# Checkpoint\n",
    "print(len(basename_img))\n",
    "\n",
    "# Create list with image name and corresponding pathway\n",
    "zipped = zip(basename_img, img_paths)\n",
    "\n",
    "# Define folder with all validation masks: Created in step 2\n",
    "folder_validation_masked = folder_validation_masked + \"/*\"\n",
    "\n",
    "# Store all validation mask pathways in a list\n",
    "mask_validation_paths = glob.glob(folder_validation_masked)\n",
    "\n",
    "# Open empty list to store validation mask list\n",
    "basename_mask_validation = []\n",
    "\n",
    "# Store the basenames for the validation binary masks in a list\n",
    "for mask in mask_validation_paths:\n",
    "    # Store the basename in a variable \n",
    "    basename = os.path.basename(mask)\n",
    "    # Modify the basename to remove the extension at the end. Modify to your situation\n",
    "    mod_basename = basename[:-22] #remove \" _VALIDATION.masked.png\"\n",
    "    # Append modified base name to list of base names\n",
    "    basename_mask_validation.append(mod_basename)\n",
    "\n",
    "# Define output folders for the images\n",
    "# Validation image folder \n",
    "folder_validation_img = \"folder_to_validation_image\"\n",
    "# Training image folder\n",
    "folder_train_img = \"folder_to_train_image\"\n",
    "\n",
    "# Initiate variable to count the number of validation images\n",
    "count = 0 \n",
    "\n",
    "# Loop through the list with all images \n",
    "for img, path in zipped:  \n",
    "    # Find all validation images\n",
    "    if img in basename_mask_validation:\n",
    "        # For each image, add 1 to count\n",
    "        count += 1\n",
    "        # Create new name for the validation images\n",
    "        new_name = img + \"_VALIDATION_image.png\"\n",
    "        # Create destination path for each validation image\n",
    "        destination_path = os.path.join(folder_validation_img, new_name)\n",
    "        \n",
    "        # Optional checkpoint. Uncomment if needed\n",
    "        #print(destination_path)\n",
    "\n",
    "        # Copy the validation image to the output folder\n",
    "        shutil.copy(path, destination_path)\n",
    "\n",
    "        \n",
    "    # Find all training images\n",
    "    else:\n",
    "        # Create new name for the training images\n",
    "        new_name = img + \"_TRAIN_image.png\"\n",
    "        # Create destination path for each training image\n",
    "        destination_path = os.path.join(folder_train_img, new_name) \n",
    "        \n",
    "        #optional checkpoint. Uncomment if needed\n",
    "        #print(destination_path)\n",
    "\n",
    "        # Copy the training image to the output folder\n",
    "        shutil.copy(path, destination_path)\n",
    "\n",
    "#Check that the number of validation images is the same as the number of validation masks \n",
    "print(count == num_images_validation)\n",
    "\n",
    "# Final checkpoint \n",
    "print(\"Step 3 Done\")"
   ]
  }
 ],
 "metadata": {
  "kernelspec": {
   "display_name": "Python 3 (ipykernel)",
   "language": "python",
   "name": "python3"
  },
  "language_info": {
   "codemirror_mode": {
    "name": "ipython",
    "version": 3
   },
   "file_extension": ".py",
   "mimetype": "text/x-python",
   "name": "python",
   "nbconvert_exporter": "python",
   "pygments_lexer": "ipython3",
   "version": "3.8.1"
  }
 },
 "nbformat": 4,
 "nbformat_minor": 5
}
