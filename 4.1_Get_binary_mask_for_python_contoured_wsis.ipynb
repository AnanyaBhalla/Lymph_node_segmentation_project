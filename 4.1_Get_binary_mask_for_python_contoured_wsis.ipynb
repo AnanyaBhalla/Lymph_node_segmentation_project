{
 "cells": [
  {
   "cell_type": "code",
   "execution_count": 1,
   "id": "4502b218-e38e-42eb-8e44-8ed029b65268",
   "metadata": {},
   "outputs": [],
   "source": [
    "# Import necessary parameters \n",
    "import os\n",
    "import glob\n",
    "import cv2\n",
    "import numpy as np\n",
    "import openslide\n",
    "import shutil\n",
    "import matplotlib.pyplot as plt\n",
    "from openslide import OpenSlide"
   ]
  },
  {
   "cell_type": "markdown",
   "id": "c27a60c6-2d5c-452e-bff3-53b4a53fe956",
   "metadata": {},
   "source": [
    "Define parameters and function for contouring algorithm"
   ]
  },
  {
   "cell_type": "code",
   "execution_count": 2,
   "id": "50e24017-1941-473f-accb-555f2c36b50c",
   "metadata": {},
   "outputs": [],
   "source": [
    "# Parameters\n",
    "bilateral1_args={\"d\":9,\"sigmaColor\":10000,\"sigmaSpace\":150}\n",
    "bilateral2_args={\"d\":90,\"sigmaColor\":5000,\"sigmaSpace\":5000}\n",
    "bilateral3_args={\"d\":90,\"sigmaColor\":10000,\"sigmaSpace\":10000}\n",
    "bilateral4_args={\"d\":90,\"sigmaColor\":10000,\"sigmaSpace\":100}\n",
    "thresh1_args={\"thresh\":0,\"maxval\":255,\"type\":cv2.THRESH_TRUNC+cv2.THRESH_OTSU}\n",
    "thresh2_args={\"thresh\":0,\"maxval\":255,\"type\":cv2.THRESH_OTSU}"
   ]
  },
  {
   "cell_type": "code",
   "execution_count": null,
   "id": "dbadaad9-5b0a-4efa-9229-67f6ad93c372",
   "metadata": {},
   "outputs": [],
   "source": [
    "#define the function for contouring the lymph node units in a whole slide image (wsis)\n",
    "def get_lymphnode_contours(wsi):\n",
    "    \n",
    "\n",
    "    #filter the colour\n",
    "    #conver the image to HSV colour space\n",
    "    img_hsv = cv2.cvtColor(wsi,cv2.COLOR_RGB2HSV)\n",
    "    #define the lower and upper bounds of the red colours HSV\n",
    "    lower_red = np.array([120,0,0])\n",
    "    upper_red = np.array([180,255,255])\n",
    "\n",
    "    #create mask to filter our red colour\n",
    "    mask = cv2.inRange(img_hsv,lower_red,upper_red)\n",
    "\n",
    "    #change back to RGB colour zone\n",
    "    img_hsv = cv2.cvtColor(img_hsv,cv2.COLOR_HSV2RGB)\n",
    "    \n",
    "    #apply maks back to the original image\n",
    "    m = cv2.bitwise_and(wsi,wsi,mask=mask)\n",
    "    #get backround colour and to fill it back \n",
    "    im_fill = np.where(m==0,233,m) \n",
    "    #build black square same size as thumbnail\n",
    "    mask = np.zeros(wsi.shape) \n",
    "    #convert mask to 2d (0,1)\n",
    "    gray = cv2.cvtColor(im_fill,cv2.COLOR_BGR2GRAY)\n",
    "    \n",
    "    #generate the blur\n",
    "    blur1 = cv2.bilateralFilter(np.bitwise_not(gray),**bilateral1_args)\n",
    "    #step2: make the pixeldist and sigma space larger so that the content can be linked together\n",
    "    blur2 = cv2.bilateralFilter(np.bitwise_not(blur1),**bilateral2_args)\n",
    "    #step3: make each lymph node looks mor like a group\n",
    "    blur3 = cv2.bilateralFilter(np.bitwise_not(blur2),**bilateral3_args)\n",
    "    #step4: contain more color as possible\n",
    "    blur4 = cv2.bilateralFilter(np.bitwise_not(blur3),**bilateral4_args)\n",
    "    #invert the final blurred image\n",
    "    blur_final = 255-blur4\n",
    "    #threshold twice\n",
    "    _,thresh = cv2.threshold(blur_final,**thresh1_args)\n",
    "    _,thresh = cv2.threshold(thresh,**thresh2_args)\n",
    "    #find contours\n",
    "    contours, _ = cv2.findContours(thresh,cv2.RETR_EXTERNAL,cv2.CHAIN_APPROX_NONE)\n",
    "    #filter small contours\n",
    "    contours = list(filter(lambda x: cv2.contourArea(x) > 5000, contours))\n",
    "    \n",
    "    #return the filtered contours\n",
    "    return contours"
   ]
  },
  {
   "cell_type": "markdown",
   "id": "515b15ea-4558-4bfd-92de-57e95a8addb9",
   "metadata": {},
   "source": [
    "Get binary masks for each WSIs stored in a folder as .NDPI f"
   ]
  },
  {
   "cell_type": "code",
   "execution_count": 1,
   "id": "29415e52-3742-45e6-9d51-dbe0d9942af3",
   "metadata": {},
   "outputs": [
    {
     "name": "stdout",
     "output_type": "stream",
     "text": [
      "Same length\n",
      "0\n",
      "All WSIs done\n"
     ]
    }
   ],
   "source": [
    "# Define the folder path with WSIs of NDPI format\n",
    "folder_path = \"path_to_folder/*\"\n",
    "image_paths = glob.glob(folder_path)\n",
    "\n",
    "\n",
    "# Open list to store WSIs names \n",
    "wsis_names = []\n",
    "\n",
    "# Loop through the list of WSIs paths\n",
    "for name in image_paths:\n",
    "    # Get the basename of the pathway (picture name)\n",
    "    basename = os.path.basename(name)\n",
    "    # Modify the name to exclude the \".ndpi\" extension at the end\n",
    "    mod_basename = basename[:-5]\n",
    "    # Append the modified name to the list\n",
    "    wsis_names.append(mod_basename)\n",
    "\n",
    "# Check if the folder and the list have the same length\n",
    "if len(image_paths) == len(wsis_names):\n",
    "    print(\"Same length\")\n",
    "    print(len(image_paths))\n",
    "    \n",
    "# Zip the WSIs names and image paths\n",
    "zipped = zip(image_paths,wsis_names)\n",
    "\n",
    "\n",
    "# Store pathway to the output folder in variable\n",
    "output_folder = \"path/to/output/folder\"\n",
    "\n",
    "# Loop through the zipped list to create a binary mask for each image\n",
    "for path, name in zipped: \n",
    "    # Open the NDPI file using openslide\n",
    "    ndpi_file = openslide.OpenSlide(path)\n",
    "\n",
    "    # Read a specific region from the image (e.g., the entire slide)\n",
    "    image_data = ndpi_file.get_thumbnail(size = ndpi_file.level_dimensions[6])\n",
    "    image_np = np.array(image_data.convert('RGB'))\n",
    "\n",
    "    #checkpoint\n",
    "    print(\"Converting image to numpy array\", name)\n",
    "    \n",
    "    # Convert the image data to a NumPy array and get the size of the image\n",
    "    image_np = np.array(image_data)\n",
    "\n",
    "    # Close the NDPI file\n",
    "    ndpi_file.close()\n",
    "\n",
    "    # Checkpoint\n",
    "    print(\"getting the contours\", name)\n",
    "    \n",
    "    # Get the contours using the get_lymphnode_contours function\n",
    "    contours = get_lymphnode_contours(image_np) \n",
    "\n",
    "    # Create an empty binary mask with the same dimensions as the original image (black image)\n",
    "    binary_mask = np.zeros_like(image_np)\n",
    "    \n",
    "    # Draw the contours on the binary mask\n",
    "    cv2.drawContours(binary_mask, contours, -1, (255, 255, 255), thickness=cv2.FILLED)\n",
    "\n",
    "    # Generate a new file name for the masked image\n",
    "    new_file_name = f\"{name}_masked.png\"\n",
    "\n",
    "    # Save the binary mask to the destination folder\n",
    "    cv2.imwrite(os.path.join(output_folder, new_file_name), binary_mask)\n",
    "    \n",
    "    # Print a message indicating that the file has been copied\n",
    "    print(\"Done\", name)\n",
    "\n",
    "#print a final message when all WSIs are processed\n",
    "print(\"All WSIs done\")    "
   ]
  },
  {
   "cell_type": "code",
   "execution_count": null,
   "id": "aea485fc-0443-4347-b533-a20850044535",
   "metadata": {},
   "outputs": [],
   "source": []
  }
 ],
 "metadata": {
  "kernelspec": {
   "display_name": "LN-env",
   "language": "python",
   "name": "ln-env"
  },
  "language_info": {
   "codemirror_mode": {
    "name": "ipython",
    "version": 3
   },
   "file_extension": ".py",
   "mimetype": "text/x-python",
   "name": "python",
   "nbconvert_exporter": "python",
   "pygments_lexer": "ipython3",
   "version": "3.8.1"
  }
 },
 "nbformat": 4,
 "nbformat_minor": 5
}
